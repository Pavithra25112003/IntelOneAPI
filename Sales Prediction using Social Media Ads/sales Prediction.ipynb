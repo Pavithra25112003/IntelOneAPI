{
 "cells": [
  {
   "cell_type": "code",
   "execution_count": null,
   "id": "9f86f457-bbe4-4903-828f-f2ac82903cab",
   "metadata": {},
   "outputs": [],
   "source": [
    "import pandas as pd\n",
    "import numpy as np\n",
    "import seaborn as sns\n",
    "import matplotlib.pyplot as plt\n",
    "%matplotlib inline\n",
    "import warnings\n",
    "warnings.filterwarnings(\"ignore\")\n"
   ]
  },
  {
   "cell_type": "code",
   "execution_count": null,
   "id": "9d14908f-f7f3-47ef-a317-e4d32e2683ec",
   "metadata": {},
   "outputs": [],
   "source": [
    "df = pd.read_csv('Social_Network_Ads.csv')\n",
    "df.head()"
   ]
  },
  {
   "cell_type": "code",
   "execution_count": null,
   "id": "bf80bf83-9e1e-47f4-98d1-3f42b206d0a1",
   "metadata": {},
   "outputs": [],
   "source": [
    "df.info()"
   ]
  },
  {
   "cell_type": "code",
   "execution_count": null,
   "id": "074d87c3-5bf9-4e9a-88f0-fe3dc7639c16",
   "metadata": {},
   "outputs": [],
   "source": [
    "df.Purchased.value_counts()"
   ]
  },
  {
   "cell_type": "code",
   "execution_count": null,
   "id": "e295186b-7788-49ae-808e-cc1a3d231608",
   "metadata": {},
   "outputs": [],
   "source": [
    "df.Gender.value_counts()"
   ]
  },
  {
   "cell_type": "code",
   "execution_count": null,
   "id": "dfe4cac5-b713-447d-8baa-406ae1698367",
   "metadata": {},
   "outputs": [],
   "source": [
    "sns.boxplot(y='Age', x='Purchased', data=df)"
   ]
  },
  {
   "cell_type": "code",
   "execution_count": null,
   "id": "21c54ba3-cb3e-4257-87ba-ef588f6aabbd",
   "metadata": {},
   "outputs": [],
   "source": [
    "sns.boxplot(y='EstimatedSalary', x='Purchased', data=df)"
   ]
  },
  {
   "cell_type": "code",
   "execution_count": null,
   "id": "3a0eba8c-275f-4a1c-8df9-e64160409083",
   "metadata": {},
   "outputs": [],
   "source": [
    "plt.hist(x=\"Purchased\", data=df);\n",
    "plt.title('Distribution of Purchase');\n",
    "plt.ylabel('Count');\n",
    "plt.xlabel('Purchase');"
   ]
  },
  {
   "cell_type": "code",
   "execution_count": null,
   "id": "bab7d4f3-97a2-4c5b-8afb-0ceda9e78fd7",
   "metadata": {},
   "outputs": [],
   "source": [
    "plt.figure(figsize=(20,5))\n",
    "bins_size = np.arange(15000,150000+10000,1000)\n",
    "plt.hist(x=\"EstimatedSalary\", data=df, bins= bins_size,rwidth=0.9);\n",
    "plt.title('Distribution of Salary');\n",
    "plt.ylabel('Count');\n",
    "plt.xlabel('Salary');"
   ]
  },
  {
   "cell_type": "code",
   "execution_count": null,
   "id": "ece9aa82-4367-4495-b723-8ec892f3a43c",
   "metadata": {},
   "outputs": [],
   "source": [
    "df.EstimatedSalary.mean()"
   ]
  },
  {
   "cell_type": "code",
   "execution_count": null,
   "id": "75f314e6-9902-4aeb-9150-a29b7a00b1d8",
   "metadata": {},
   "outputs": [],
   "source": [
    "plt.figure(figsize=(15,5))\n",
    "bins_size = np.arange(18,65,2)\n",
    "plt.hist(x=\"Age\", data=df, bins= bins_size,rwidth=0.9);\n",
    "plt.title('Distribution of Age');\n",
    "plt.ylabel('Count');\n",
    "plt.xlabel('Age');"
   ]
  },
  {
   "cell_type": "code",
   "execution_count": null,
   "id": "441c6cca-501f-4a53-8e74-2863f268b61d",
   "metadata": {},
   "outputs": [],
   "source": [
    "sns.distplot(df.Purchased);"
   ]
  },
  {
   "cell_type": "code",
   "execution_count": null,
   "id": "5b532ff9-67f9-472f-bdca-e4fca941f742",
   "metadata": {},
   "outputs": [],
   "source": [
    "df.describe()"
   ]
  },
  {
   "cell_type": "code",
   "execution_count": null,
   "id": "90c63ba6-0a76-4d42-80b5-4c327e522ce6",
   "metadata": {},
   "outputs": [],
   "source": [
    "df.Age.unique()"
   ]
  },
  {
   "cell_type": "code",
   "execution_count": null,
   "id": "ce4bbfa0-c7e0-4eb9-9915-252c34d05f85",
   "metadata": {},
   "outputs": [],
   "source": [
    "df.Age.nunique()"
   ]
  },
  {
   "cell_type": "code",
   "execution_count": null,
   "id": "0a983f9f-2114-403a-8e89-a9351417e7e8",
   "metadata": {},
   "outputs": [],
   "source": [
    "df.EstimatedSalary.unique()"
   ]
  },
  {
   "cell_type": "code",
   "execution_count": null,
   "id": "7c85e192-8bb1-481b-a93d-12190a49f716",
   "metadata": {},
   "outputs": [],
   "source": [
    "df.EstimatedSalary.nunique()"
   ]
  },
  {
   "cell_type": "code",
   "execution_count": null,
   "id": "526af0cb-a466-4d14-af3a-6e4427fb2dde",
   "metadata": {},
   "outputs": [],
   "source": [
    "df.Purchased.unique()"
   ]
  },
  {
   "cell_type": "code",
   "execution_count": null,
   "id": "1b1ea306-ef71-40e5-8e26-75bcbf11c442",
   "metadata": {},
   "outputs": [],
   "source": [
    "df.duplicated().sum()"
   ]
  },
  {
   "cell_type": "code",
   "execution_count": null,
   "id": "6e0f384c-3054-4ec8-a88b-bb32faba7fa2",
   "metadata": {},
   "outputs": [],
   "source": [
    "# Remove non-numeric columns (e.g., 'Gender')\n",
    "df1 = df.drop(columns=['Gender'])\n",
    "\n",
    "# Now you can proceed with your analysis\n",
    "plt.figure(figsize=(8, 8))\n",
    "ax = sns.heatmap(df1.corr(), square=True, annot=True, cmap='Spectral')\n",
    "ax.set_ylim(4.0, 0)\n",
    "plt.show()"
   ]
  },
  {
   "cell_type": "code",
   "execution_count": null,
   "id": "3e35d3ef-50c7-47b6-9420-7016373672b5",
   "metadata": {},
   "outputs": [],
   "source": [
    "ax = sns.regplot(x=\"EstimatedSalary\", y=\"Purchased\", data=df)"
   ]
  },
  {
   "cell_type": "code",
   "execution_count": null,
   "id": "7fd141af-edb7-4963-bf99-7832943d4a6b",
   "metadata": {},
   "outputs": [],
   "source": [
    "ax = sns.regplot(x=\"Age\", y=\"Purchased\", data=df)"
   ]
  },
  {
   "cell_type": "code",
   "execution_count": null,
   "id": "91da0a15-2be9-47eb-9eb2-19c1376bf39a",
   "metadata": {},
   "outputs": [],
   "source": [
    "col = sns.color_palette()[0]"
   ]
  },
  {
   "cell_type": "code",
   "execution_count": null,
   "id": "ae0e1ee4-3394-43a3-91b8-3069160260dd",
   "metadata": {},
   "outputs": [],
   "source": [
    "sns.barplot(x=\"Purchased\", y=\"EstimatedSalary\", data=df, color=col)"
   ]
  },
  {
   "cell_type": "code",
   "execution_count": null,
   "id": "6da0c5b1-2a6c-498a-946a-237acfd95810",
   "metadata": {},
   "outputs": [],
   "source": [
    "sns.barplot(x=\"Purchased\", y=\"EstimatedSalary\", data=df, hue=\"Gender\")"
   ]
  },
  {
   "cell_type": "code",
   "execution_count": null,
   "id": "1d071f1d-5493-42ab-8ef2-b8f25446e5ed",
   "metadata": {},
   "outputs": [],
   "source": [
    "sns.pairplot(df, vars=[\"Age\", \"EstimatedSalary\",\"Purchased\"])"
   ]
  },
  {
   "cell_type": "code",
   "execution_count": null,
   "id": "f5b00aac-42fc-4fbd-8c3c-e9c9c7e94c31",
   "metadata": {},
   "outputs": [],
   "source": [
    "sns.pairplot(df, vars=[\"Age\", \"EstimatedSalary\",\"Purchased\"],hue = 'Gender')"
   ]
  },
  {
   "cell_type": "code",
   "execution_count": null,
   "id": "40de2323-356a-4760-a8eb-b7f07ec12216",
   "metadata": {},
   "outputs": [],
   "source": [
    "df.drop_duplicates(inplace=True)"
   ]
  },
  {
   "cell_type": "code",
   "execution_count": null,
   "id": "8830f97e-6992-406b-a30d-5aeddb9f7db4",
   "metadata": {},
   "outputs": [],
   "source": [
    "df.drop(columns=['User ID'], inplace = True)"
   ]
  },
  {
   "cell_type": "code",
   "execution_count": null,
   "id": "8f3dc3db-2cb1-4a1c-b079-3bce28789172",
   "metadata": {},
   "outputs": [],
   "source": [
    "df.loc[((df.Age >58) & (df.Purchased==0)), 'Age'] = np.nan\n",
    "df.fillna(53,inplace=True)"
   ]
  },
  {
   "cell_type": "code",
   "execution_count": null,
   "id": "fa5108cb-d60e-46f1-aec9-b46b9aaad0fa",
   "metadata": {},
   "outputs": [],
   "source": [
    "df.loc[(df.EstimatedSalary>120000) & (df.Purchased==0), 'EstimatedSalary'] = np.nan\n",
    "df.fillna(120000,inplace=True)"
   ]
  },
  {
   "cell_type": "code",
   "execution_count": null,
   "id": "b8ef67ef-ca17-4f09-820c-4f6b849a65f1",
   "metadata": {},
   "outputs": [],
   "source": [
    "from scipy import stats\n",
    "z = np.abs(stats.zscore(df['EstimatedSalary']))\n",
    "threshold = 3\n",
    "print(np.where(z > 3))"
   ]
  },
  {
   "cell_type": "code",
   "execution_count": null,
   "id": "5a3f24ea-208d-41d3-8dec-be3cf1bc3349",
   "metadata": {},
   "outputs": [],
   "source": [
    "z = np.abs(stats.zscore(df['Age']))\n",
    "print(np.where(z > 3))"
   ]
  },
  {
   "cell_type": "code",
   "execution_count": null,
   "id": "1647f500-7464-42d3-9d9c-45607115ecd0",
   "metadata": {},
   "outputs": [],
   "source": [
    "df.Age = df.Age.astype(\"int64\")"
   ]
  },
  {
   "cell_type": "code",
   "execution_count": null,
   "id": "4637b5dc-1af8-4936-b2fd-ed0838bd9305",
   "metadata": {},
   "outputs": [],
   "source": [
    "df.EstimatedSalary = df.EstimatedSalary.astype(\"int64\")"
   ]
  },
  {
   "cell_type": "code",
   "execution_count": null,
   "id": "80d94d36-4b0f-4355-b279-cbe79cf43347",
   "metadata": {},
   "outputs": [],
   "source": [
    "df.info()"
   ]
  },
  {
   "cell_type": "code",
   "execution_count": null,
   "id": "b1a7b4b1-e071-4f27-b87d-329ea1f2b41b",
   "metadata": {},
   "outputs": [],
   "source": [
    "a = df.groupby(['Gender', 'Age'])\n",
    "a.first()"
   ]
  },
  {
   "cell_type": "code",
   "execution_count": null,
   "id": "43ed7918-06d8-4127-8b4e-0a8fd50f9f57",
   "metadata": {},
   "outputs": [],
   "source": [
    "a = df.groupby(['Purchased','EstimatedSalary'])\n",
    "a.first()"
   ]
  },
  {
   "cell_type": "code",
   "execution_count": null,
   "id": "4f5714f1-4c0f-476d-a3ff-f1c8fad0e950",
   "metadata": {},
   "outputs": [],
   "source": [
    "sns.scatterplot(y=\"EstimatedSalary\", x=\"Purchased\", data=df)"
   ]
  },
  {
   "cell_type": "code",
   "execution_count": null,
   "id": "09eea07f-588a-4d96-bf41-8fe29e8deed0",
   "metadata": {},
   "outputs": [],
   "source": [
    "plt.figure(figsize = (15,8))\n",
    "sns.scatterplot(y=\"EstimatedSalary\", x=\"Age\", data=df, hue = 'Purchased')"
   ]
  },
  {
   "cell_type": "code",
   "execution_count": null,
   "id": "e04779a6-9f0b-4385-925e-a90feef3852b",
   "metadata": {},
   "outputs": [],
   "source": [
    "sns.catplot(y=\"EstimatedSalary\", x=\"Purchased\", data=df, hue = 'Gender')"
   ]
  },
  {
   "cell_type": "code",
   "execution_count": null,
   "id": "9751e36c-4538-4f62-9d83-f3ad785fc969",
   "metadata": {},
   "outputs": [],
   "source": [
    "sns.catplot(y=\"Age\", x=\"Purchased\", data=df, hue = 'Gender')"
   ]
  },
  {
   "cell_type": "code",
   "execution_count": null,
   "id": "f2645852-7ee1-4edb-bf25-a744dc6edffc",
   "metadata": {},
   "outputs": [],
   "source": [
    "df.Gender.replace({'Male':1,\n",
    "                   'Female':0}, inplace=True)"
   ]
  },
  {
   "cell_type": "code",
   "execution_count": null,
   "id": "14c82582-c111-45c8-acd6-310a19c6a4ca",
   "metadata": {},
   "outputs": [],
   "source": [
    "df.head()"
   ]
  },
  {
   "cell_type": "code",
   "execution_count": null,
   "id": "47164b8c-57b5-4b11-a60a-41b348013826",
   "metadata": {},
   "outputs": [],
   "source": [
    "X = df.iloc[:, [1, 2]]\n",
    "y = df.iloc[:, 3]"
   ]
  },
  {
   "cell_type": "code",
   "execution_count": null,
   "id": "78a81609-431f-4c08-9a79-e2d49f45015e",
   "metadata": {},
   "outputs": [],
   "source": [
    "X"
   ]
  },
  {
   "cell_type": "code",
   "execution_count": null,
   "id": "0e81ab00-ac7f-4d5f-97d6-b746001ad0a9",
   "metadata": {},
   "outputs": [],
   "source": [
    "from sklearn.model_selection import train_test_split\n",
    "X_train, X_test, y_train, y_test = train_test_split(X, y, test_size = 0.25, random_state = 0)"
   ]
  },
  {
   "cell_type": "code",
   "execution_count": null,
   "id": "e9cddba4-c652-4e0e-bfdc-5800dcb54ec0",
   "metadata": {},
   "outputs": [],
   "source": [
    "from sklearn.preprocessing import StandardScaler\n",
    "sc = StandardScaler()\n",
    "X_train = sc.fit_transform(X_train)\n",
    "X_test = sc.transform(X_test)"
   ]
  },
  {
   "cell_type": "code",
   "execution_count": null,
   "id": "7e6bb52f-9fd8-4bf5-ae9b-ae62a6248897",
   "metadata": {},
   "outputs": [],
   "source": [
    "from sklearn.neighbors import KNeighborsClassifier\n",
    "knn = KNeighborsClassifier(n_neighbors=1)\n",
    "knn.fit(X_train,y_train)\n",
    "knn_pred = knn.predict(X_test)"
   ]
  },
  {
   "cell_type": "code",
   "execution_count": null,
   "id": "c39d8229-970a-4ab1-8990-c96029ef8011",
   "metadata": {},
   "outputs": [],
   "source": [
    "from sklearn.metrics import classification_report,confusion_matrix\n",
    "print(confusion_matrix(y_test,knn_pred))\n",
    "print(classification_report(y_test,knn_pred))"
   ]
  },
  {
   "cell_type": "code",
   "execution_count": null,
   "id": "8e1d4ef4-b340-4660-98f6-5af585f90356",
   "metadata": {},
   "outputs": [],
   "source": [
    "error_rate = []\n",
    "\n",
    "for i in range(1,40):\n",
    "    \n",
    "    knn = KNeighborsClassifier(n_neighbors=i)\n",
    "    knn.fit(X_train,y_train)\n",
    "    pred_i = knn.predict(X_test)\n",
    "    error_rate.append(np.mean(pred_i != y_test))"
   ]
  },
  {
   "cell_type": "code",
   "execution_count": null,
   "id": "118f5416-4247-42a6-9e31-5fe40acb4357",
   "metadata": {},
   "outputs": [],
   "source": [
    "plt.figure(figsize=(10,6))\n",
    "plt.plot(range(1,40),error_rate,color='blue', linestyle='dashed', marker='o',\n",
    "         markerfacecolor='red', markersize=10)\n",
    "plt.title('Error Rate vs. K Value')\n",
    "plt.xlabel('K')\n",
    "plt.ylabel('Error Rate')"
   ]
  },
  {
   "cell_type": "code",
   "execution_count": null,
   "id": "cd5088ba-5b9f-4327-b73a-4e7880892207",
   "metadata": {},
   "outputs": [],
   "source": [
    "knn = KNeighborsClassifier(n_neighbors=4)\n",
    "\n",
    "knn.fit(X_train,y_train)\n",
    "knn_pred = knn.predict(X_test)\n",
    "\n",
    "print('WITH K=4')\n",
    "print('\\n')\n",
    "print(confusion_matrix(y_test,knn_pred))\n",
    "print('\\n')\n",
    "print(classification_report(y_test,knn_pred))"
   ]
  },
  {
   "cell_type": "code",
   "execution_count": null,
   "id": "a650edea-6f3d-4c88-8a40-1bc0c5264a59",
   "metadata": {},
   "outputs": [],
   "source": [
    "from sklearn.metrics import accuracy_score\n",
    "print ('accuracy_score : ', accuracy_score(y_test,knn_pred))"
   ]
  },
  {
   "cell_type": "code",
   "execution_count": null,
   "id": "17b0ffa0-f4dc-4c7d-96b0-6656ff9e8577",
   "metadata": {},
   "outputs": [],
   "source": [
    "from sklearn.model_selection import cross_val_score\n",
    "knn_accuracy = cross_val_score(knn,X,y, cv = 5)"
   ]
  },
  {
   "cell_type": "code",
   "execution_count": null,
   "id": "e7e53671-9f8f-4195-b54f-d46015080d33",
   "metadata": {},
   "outputs": [],
   "source": [
    "knn_accuracy"
   ]
  },
  {
   "cell_type": "code",
   "execution_count": null,
   "id": "344f1a33-f905-4fd0-b868-2f2ac1dd8573",
   "metadata": {},
   "outputs": [],
   "source": [
    "knn_accuracy.mean()"
   ]
  },
  {
   "cell_type": "code",
   "execution_count": null,
   "id": "c5f77825-d410-44ee-bdd5-142ebfda0f29",
   "metadata": {},
   "outputs": [],
   "source": [
    "from sklearn.metrics import roc_curve, auc\n",
    "\n",
    "knn_fpr, knn_tpr, threshold = roc_curve(y_test, knn_pred)\n",
    "auc_knn = auc(knn_fpr, knn_tpr)\n",
    "\n",
    "plt.figure(figsize=(5, 5), dpi=100)\n",
    "plt.plot(knn_fpr, knn_tpr, marker='.', label='Knn (auc = %0.3f)' % auc_knn)\n",
    "\n",
    "plt.xlabel('False Positive Rate -->')\n",
    "plt.ylabel('True Positive Rate -->')\n",
    "\n",
    "plt.legend()\n",
    "\n",
    "plt.show()"
   ]
  },
  {
   "cell_type": "code",
   "execution_count": null,
   "id": "2259518f-603c-4654-9625-d2753fb05396",
   "metadata": {},
   "outputs": [],
   "source": [
    "from sklearn.linear_model import LogisticRegression\n",
    "log_reg = LogisticRegression()\n",
    "log_reg.fit(X_train,y_train)\n",
    "log_pred = log_reg.predict(X_test)"
   ]
  },
  {
   "cell_type": "code",
   "execution_count": null,
   "id": "efbf05b5-dc35-4a11-9a29-ac67339602af",
   "metadata": {},
   "outputs": [],
   "source": [
    "print(confusion_matrix(y_test,log_pred))\n",
    "print('\\n')\n",
    "print(classification_report(y_test,log_pred))"
   ]
  },
  {
   "cell_type": "code",
   "execution_count": null,
   "id": "b1922a12-e29e-45fc-9d0c-4c80470408d8",
   "metadata": {},
   "outputs": [],
   "source": [
    "log_accuracy = cross_val_score(log_reg,X,y, cv = 5)\n",
    "print(log_accuracy)\n",
    "print(\"mean value of accuracy\",log_accuracy.mean())"
   ]
  },
  {
   "cell_type": "code",
   "execution_count": null,
   "id": "15f6d394-fca7-4d0d-a58d-195cc9185ba3",
   "metadata": {},
   "outputs": [],
   "source": [
    "from sklearn.svm import SVC\n",
    "svc_classifier = SVC(kernel = 'rbf', random_state = 0)\n",
    "svc_classifier.fit(X_train, y_train)\n",
    "svc_pred = svc_classifier.predict(X_test)"
   ]
  },
  {
   "cell_type": "code",
   "execution_count": null,
   "id": "20e7e519-bc6d-47f6-8a29-7f37424b9e81",
   "metadata": {},
   "outputs": [],
   "source": [
    "print(confusion_matrix(y_test,svc_pred))\n",
    "print('\\n')\n",
    "print(classification_report(y_test,svc_pred))"
   ]
  },
  {
   "cell_type": "code",
   "execution_count": null,
   "id": "ff451718-5686-499a-9775-dcd072f78525",
   "metadata": {},
   "outputs": [],
   "source": [
    "svc_accuracy = cross_val_score(svc_classifier,X,y, cv = 5)\n",
    "print(svc_accuracy)\n",
    "print(\"mean value of accuracy\",svc_accuracy.mean())"
   ]
  },
  {
   "cell_type": "code",
   "execution_count": null,
   "id": "c62278a3-bb24-454a-b4b8-194293be6c8c",
   "metadata": {},
   "outputs": [],
   "source": [
    "from sklearn.tree import DecisionTreeClassifier\n",
    "dt_classifier = DecisionTreeClassifier(criterion='entropy', random_state=0)\n",
    "dt_classifier.fit(X_train, y_train)\n",
    "dt_pred = dt_classifier.predict(X_test)"
   ]
  },
  {
   "cell_type": "code",
   "execution_count": null,
   "id": "9f6f3cc0-e553-4309-89a2-017ff870b04d",
   "metadata": {},
   "outputs": [],
   "source": [
    "print(confusion_matrix(y_test,dt_pred))\n",
    "print('\\n')\n",
    "print(classification_report(y_test,dt_pred))"
   ]
  },
  {
   "cell_type": "code",
   "execution_count": null,
   "id": "209551b4-1ee4-49d7-ae93-512b51379637",
   "metadata": {},
   "outputs": [],
   "source": [
    "dt_accuracy = cross_val_score(dt_classifier,X,y, cv = 5)\n",
    "print(dt_accuracy)\n",
    "print(\"mean value of accuracy\",dt_accuracy.mean())"
   ]
  },
  {
   "cell_type": "code",
   "execution_count": null,
   "id": "ae017f1c-f037-4e02-aea5-654df34f30ae",
   "metadata": {},
   "outputs": [],
   "source": [
    "from sklearn.ensemble import RandomForestClassifier\n",
    "rf_classifier = RandomForestClassifier(n_estimators = 10, criterion = 'entropy', random_state = 0)\n",
    "rf_classifier.fit(X_train, y_train)\n",
    "rf_pred = rf_classifier.predict(X_test)"
   ]
  },
  {
   "cell_type": "code",
   "execution_count": null,
   "id": "6b3c83a7-8481-4f89-bf2e-276c74ffef79",
   "metadata": {},
   "outputs": [],
   "source": [
    "print(confusion_matrix(y_test,rf_pred))\n",
    "print('\\n')\n",
    "print(classification_report(y_test,rf_pred))"
   ]
  },
  {
   "cell_type": "code",
   "execution_count": null,
   "id": "256f9e43-f9af-4102-92cc-2e92b0f58d80",
   "metadata": {},
   "outputs": [],
   "source": [
    "rf_accuracy = cross_val_score(rf_classifier,X,y, cv = 5)\n",
    "print(rf_accuracy)\n",
    "print(\"mean value of accuracy\",rf_accuracy.mean())"
   ]
  },
  {
   "cell_type": "code",
   "execution_count": null,
   "id": "a7ca2940-2a61-4e7c-a701-86758de0126e",
   "metadata": {},
   "outputs": [],
   "source": [
    "print(\"For Random Forest Classifier::\")\n",
    "print(confusion_matrix(y_test,rf_pred))\n",
    "print('\\n')\n",
    "print(classification_report(y_test,rf_pred))"
   ]
  },
  {
   "cell_type": "code",
   "execution_count": null,
   "id": "b4ade4e7-12fb-4a2f-8e27-516eda0c149f",
   "metadata": {},
   "outputs": [],
   "source": [
    "\n",
    "from sklearn.model_selection import GridSearchCV\n",
    "parameters = [{\"C\": [1, 10, 100, 1000], \"kernel\": ['linear']}, \n",
    "              {\"C\": [1, 10, 100, 1000], \"kernel\": ['rbf'], 'gamma': [0.5, 0.1, 0.01, 0.001]}]\n",
    "\n",
    "#Use this list to train\n",
    "grid_search = GridSearchCV(estimator = svc_classifier, param_grid = parameters, scoring = 'accuracy', cv = 10, n_jobs = -1)\n",
    "grid_search = grid_search.fit(X_train, y_train)\n",
    "\n",
    "#Use attributes of grid_search to get the results\n",
    "best_accuracy = grid_search.best_score_\n",
    "best_parameters = grid_search.best_params_\n",
    "\n",
    "print(\"Best accuracy: \",best_accuracy)\n",
    "print(best_parameters)"
   ]
  },
  {
   "cell_type": "code",
   "execution_count": null,
   "id": "b646a2a7-94cd-4d07-8a07-09a38d3a5baa",
   "metadata": {},
   "outputs": [],
   "source": [
    "from sklearn.svm import SVC\n",
    "svc_classifier = SVC(kernel = 'rbf', random_state = 0, C =10, gamma=0.1)\n",
    "svc_classifier.fit(X_train, y_train)\n",
    "svc_pred = svc_classifier.predict(X_test)"
   ]
  },
  {
   "cell_type": "code",
   "execution_count": null,
   "id": "8a6efe9b-5109-49d6-8c7b-106675500ceb",
   "metadata": {},
   "outputs": [],
   "source": [
    "print(\"For SVM Classifier::\")\n",
    "print(confusion_matrix(y_test,svc_pred))\n",
    "print('\\n')\n",
    "print(classification_report(y_test,svc_pred))"
   ]
  },
  {
   "cell_type": "code",
   "execution_count": null,
   "id": "e928ae32-1436-4412-8068-935dd61df24d",
   "metadata": {},
   "outputs": [],
   "source": [
    "n_estimators = [100, 300, 500]\n",
    "max_depth = [5, 8, 15]\n",
    "min_samples_leaf = [1, 2] \n",
    "\n",
    "hyperF = dict(n_estimators = n_estimators, max_depth = max_depth,min_samples_leaf = min_samples_leaf)\n",
    "\n",
    "gridF = GridSearchCV(rf_classifier, hyperF, cv = 5, verbose = 1, \n",
    "                      n_jobs = -1)\n",
    "bestF = gridF.fit(X_train, y_train)"
   ]
  },
  {
   "cell_type": "code",
   "execution_count": null,
   "id": "209d4b8e-21af-4432-b810-f8fb66204d0a",
   "metadata": {},
   "outputs": [],
   "source": [
    "bestF.best_estimator_"
   ]
  },
  {
   "cell_type": "code",
   "execution_count": null,
   "id": "543aaaac-7f26-485c-9a76-22f0437bf1f6",
   "metadata": {},
   "outputs": [],
   "source": [
    "bestF.best_params_"
   ]
  },
  {
   "cell_type": "code",
   "execution_count": null,
   "id": "dd7d87ef-fc8f-488e-a88d-e637028d5b4d",
   "metadata": {},
   "outputs": [],
   "source": [
    "from sklearn.ensemble import RandomForestClassifier\n",
    "rf_classifier = RandomForestClassifier(n_estimators = 100, criterion = 'entropy', random_state = 0, max_depth=5,min_samples_leaf=1)\n",
    "rf_classifier.fit(X_train, y_train)\n",
    "rf_pred = rf_classifier.predict(X_test)"
   ]
  },
  {
   "cell_type": "code",
   "execution_count": null,
   "id": "6bbd4d85-e8ab-4ff9-8b07-d169768b5f6e",
   "metadata": {},
   "outputs": [],
   "source": [
    "print(confusion_matrix(y_test,rf_pred))\n",
    "print('\\n')\n",
    "print(classification_report(y_test,rf_pred))"
   ]
  },
  {
   "cell_type": "code",
   "execution_count": null,
   "id": "03899288-5b9b-42c4-9c1b-7a9d290206a3",
   "metadata": {},
   "outputs": [],
   "source": [
    "criterion = ['gini', 'entropy']\n",
    "max_depth = [4,6,8,12]\n",
    "\n",
    "parameters = dict(criterion=criterion,max_depth=max_depth)\n",
    "\n",
    "  \n",
    "clf = GridSearchCV(rf_classifier, hyperF, cv = 5, verbose = 1, n_jobs = -1)\n",
    "\n",
    "# Fit the grid search\n",
    "clf.fit(X_train, y_train)"
   ]
  },
  {
   "cell_type": "code",
   "execution_count": null,
   "id": "8e22625a-9b87-4c11-92e2-b572d8e4503c",
   "metadata": {},
   "outputs": [],
   "source": [
    "from sklearn.tree import DecisionTreeClassifier\n",
    "dt_classifier = DecisionTreeClassifier(criterion='entropy', random_state=0, max_depth=5)\n",
    "dt_classifier.fit(X_train, y_train)\n",
    "dt_pred = dt_classifier.predict(X_test)"
   ]
  },
  {
   "cell_type": "code",
   "execution_count": null,
   "id": "818aeec2-e9de-4e63-9c38-c567f5668f1d",
   "metadata": {},
   "outputs": [],
   "source": [
    "print(confusion_matrix(y_test,dt_pred))\n",
    "print('\\n')\n",
    "print(classification_report(y_test,dt_pred))"
   ]
  },
  {
   "cell_type": "code",
   "execution_count": null,
   "id": "e1ab6a5f-0294-413c-b5b1-196a944912cf",
   "metadata": {},
   "outputs": [],
   "source": [
    "param_grid = [    \n",
    "    {'solver' : ['lbfgs','newton-cg','liblinear','sag','saga'],\n",
    "    'max_iter' : [100, 1000,2500, 5000]\n",
    "    }\n",
    "]\n",
    "clf = GridSearchCV(log_reg, param_grid = param_grid, cv = 3, verbose=True, n_jobs=-1)\n",
    "best_clf = clf.fit(X_train, y_train)"
   ]
  },
  {
   "cell_type": "code",
   "execution_count": null,
   "id": "b3bcf57f-4e91-413e-8a0d-df49c625443e",
   "metadata": {},
   "outputs": [],
   "source": [
    "a = best_clf.best_estimator_\n",
    "a"
   ]
  },
  {
   "cell_type": "code",
   "execution_count": null,
   "id": "f79d07e1-bee0-4672-b55c-134890076d0d",
   "metadata": {},
   "outputs": [],
   "source": [
    "best_clf.best_params_"
   ]
  },
  {
   "cell_type": "code",
   "execution_count": null,
   "id": "c6079901-1e62-4921-a9ab-9564ea59b518",
   "metadata": {},
   "outputs": [],
   "source": [
    "from sklearn.linear_model import LogisticRegression\n",
    "log_reg = LogisticRegression(C=1.0, solver='lbfgs',max_iter=100 )\n",
    "log_reg.fit(X_train,y_train)\n",
    "log_pred = log_reg.predict(X_test)"
   ]
  },
  {
   "cell_type": "code",
   "execution_count": null,
   "id": "8ecd87ff-68fe-4647-9d68-f33584a8d85b",
   "metadata": {},
   "outputs": [],
   "source": [
    "print(confusion_matrix(y_test,log_pred))\n",
    "print('\\n')\n",
    "print(classification_report(y_test,log_pred))"
   ]
  },
  {
   "cell_type": "code",
   "execution_count": null,
   "id": "fd70e77c-45bb-4681-9775-d2ee13506d2e",
   "metadata": {},
   "outputs": [],
   "source": [
    "leaf_size = list(range(1,10))\n",
    "n_neighbors = list(range(1,10))\n",
    "p=[1,2]\n",
    "\n",
    "#Convert to dictionary\n",
    "hyperparameters = dict(leaf_size=leaf_size, n_neighbors=n_neighbors, p=p)\n",
    "\n",
    "#Use GridSearch\n",
    "clf = GridSearchCV(knn, hyperparameters, cv=10, verbose=True, n_jobs=-1)\n",
    "#Fit the model\n",
    "best_model = clf.fit(X_train,y_train)"
   ]
  },
  {
   "cell_type": "code",
   "execution_count": null,
   "id": "876000f9-ca15-4680-a1e1-063b59ba0df9",
   "metadata": {},
   "outputs": [],
   "source": [
    "best_model.best_estimator_"
   ]
  },
  {
   "cell_type": "code",
   "execution_count": null,
   "id": "7a03bf31-e178-4d4e-981f-9a81b28f1331",
   "metadata": {},
   "outputs": [],
   "source": [
    "best_model.best_params_"
   ]
  },
  {
   "cell_type": "code",
   "execution_count": null,
   "id": "9752406c-faae-4f6c-93c6-155f1fd1ebc6",
   "metadata": {},
   "outputs": [],
   "source": [
    "knn = KNeighborsClassifier(n_neighbors=9, p = 1, leaf_size=1)\n",
    "\n",
    "knn.fit(X_train,y_train)\n",
    "knn_pred = knn.predict(X_test)\n",
    "\n",
    "print(confusion_matrix(y_test,knn_pred))\n",
    "print('\\n')\n",
    "print(classification_report(y_test,knn_pred))"
   ]
  },
  {
   "cell_type": "code",
   "execution_count": null,
   "id": "b9c0ba4e-11d0-478e-a0ff-eb9b2fc189b2",
   "metadata": {},
   "outputs": [],
   "source": [
    "print(confusion_matrix(y_test,dt_pred))\n",
    "print('\\n')\n",
    "print(classification_report(y_test,dt_pred))"
   ]
  },
  {
   "cell_type": "code",
   "execution_count": null,
   "id": "6f271b57-28e5-4854-b099-2b45ef20e0d4",
   "metadata": {},
   "outputs": [],
   "source": [
    "df.head()"
   ]
  },
  {
   "cell_type": "code",
   "execution_count": null,
   "id": "f5cd3c4f-1e83-4fb6-a843-c65c8d1d0559",
   "metadata": {},
   "outputs": [],
   "source": [
    "X1 = df.iloc[:,0: 3]\n",
    "y1 = df.iloc[:, 3]"
   ]
  },
  {
   "cell_type": "code",
   "execution_count": null,
   "id": "f0eca561-3bc6-47b5-b3ec-b6afce861d66",
   "metadata": {},
   "outputs": [],
   "source": [
    "X1"
   ]
  },
  {
   "cell_type": "code",
   "execution_count": null,
   "id": "c58a7a32-9af5-4ce8-8d47-54578c21a042",
   "metadata": {},
   "outputs": [],
   "source": [
    "from sklearn.model_selection import train_test_split\n",
    "X_train, X_test, y_train, y_test = train_test_split(X1, y1, test_size = 0.30, random_state = 0)"
   ]
  },
  {
   "cell_type": "code",
   "execution_count": null,
   "id": "da55fa05-e1c4-4ee4-b088-e1277ba48980",
   "metadata": {},
   "outputs": [],
   "source": [
    "dt_classifier = DecisionTreeClassifier(criterion='entropy', random_state=0, max_depth=5)\n",
    "dt_classifier.fit(X_train, y_train)\n",
    "dt_pred = dt_classifier.predict(X_test)"
   ]
  },
  {
   "cell_type": "code",
   "execution_count": null,
   "id": "0e60abc1-7ead-4324-b0d1-5a946a556f7a",
   "metadata": {},
   "outputs": [],
   "source": [
    "print(confusion_matrix(y_test,dt_pred))\n",
    "print('\\n')\n",
    "print(classification_report(y_test,dt_pred))"
   ]
  }
 ],
 "metadata": {
  "kernelspec": {
   "display_name": "Python 3 (Intel® oneAPI 2023.2)",
   "language": "python",
   "name": "c009-intel_distribution_of_python_3_oneapi-beta05-python"
  },
  "language_info": {
   "codemirror_mode": {
    "name": "ipython",
    "version": 3
   },
   "file_extension": ".py",
   "mimetype": "text/x-python",
   "name": "python",
   "nbconvert_exporter": "python",
   "pygments_lexer": "ipython3",
   "version": "3.9.16"
  }
 },
 "nbformat": 4,
 "nbformat_minor": 5
}
